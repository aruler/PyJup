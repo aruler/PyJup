{
 "cells": [
  {
   "cell_type": "markdown",
   "id": "08d63e5b-dc1a-4308-9d36-36dce4a6472c",
   "metadata": {},
   "source": [
    "# Basics for IBM Data Science Course"
   ]
  },
  {
   "cell_type": "markdown",
   "id": "e5d5bbdb-f106-474b-8d67-feac84d91467",
   "metadata": {},
   "source": [
    "In this notebook nothing hard awaits us. We will review the basic use of Jupyter Lab and python"
   ]
  },
  {
   "cell_type": "markdown",
   "id": "c5283628-4601-48d6-8d8f-5352de8c40ad",
   "metadata": {},
   "source": [
    "We will use just one language as said earlier, python for our calculations"
   ]
  },
  {
   "cell_type": "markdown",
   "id": "f42d94ea-8fb4-4231-ae6c-dac07e293177",
   "metadata": {},
   "source": [
    "Thanks to the power of python we don't need any libraries for arithemtic"
   ]
  },
  {
   "cell_type": "markdown",
   "id": "6f5f0dcf-4f6d-428a-9c23-e3ac3bd46a66",
   "metadata": {},
   "source": [
    "Tools that we use here is Jupyter Lab, powerful tool for sharing projects "
   ]
  },
  {
   "cell_type": "markdown",
   "id": "1afdb923-dd86-4ef7-98f1-15883c5974f5",
   "metadata": {},
   "source": [
    "Below you can see code that adds and multiply diffrent values. First values are called variables, you can change what is after equal sign to change the output"
   ]
  },
  {
   "cell_type": "code",
   "execution_count": 5,
   "id": "1c6dd165-cce0-4a12-9bd1-8d59b56f8089",
   "metadata": {},
   "outputs": [
    {
     "name": "stdout",
     "output_type": "stream",
     "text": [
      "11\n",
      "300\n"
     ]
    }
   ],
   "source": [
    "a = 5\n",
    "b = 6\n",
    "c = 10\n",
    "\n",
    "add = a + b\n",
    "multiply = a * b * c\n",
    "\n",
    "print(add)\n",
    "print(multiply)"
   ]
  },
  {
   "cell_type": "markdown",
   "id": "010aef75-f2d6-44b6-b752-7b29f73ac02d",
   "metadata": {},
   "source": [
    "We can also convert minutes to hours almost as easly"
   ]
  },
  {
   "cell_type": "code",
   "execution_count": 6,
   "id": "f23dce6e-d9e3-4221-aa4b-ce1a6d93eedd",
   "metadata": {},
   "outputs": [
    {
     "name": "stdout",
     "output_type": "stream",
     "text": [
      "02:21\n"
     ]
    }
   ],
   "source": [
    "minutes_input = 141\n",
    "\n",
    "hours = minutes_input//60\n",
    "minutes=minutes_input%60\n",
    "\n",
    "print(f\"{hours:02d}:{minutes:02d}\")"
   ]
  },
  {
   "cell_type": "markdown",
   "id": "e1f16182-cdb8-4abd-891c-dad08836e938",
   "metadata": {},
   "source": [
    "So in this shortnotebook we achieved\n",
    "* simple arithemtic\n",
    "* time conversion\n",
    "* string formatting"
   ]
  },
  {
   "cell_type": "markdown",
   "id": "e068409a-2960-4a00-9913-8c89ecb0466d",
   "metadata": {},
   "source": [
    "Thank you for your journey with me, take a look on [GitHub](https://github.com/) for **_Aruler_**, your humble author !"
   ]
  }
 ],
 "metadata": {
  "kernelspec": {
   "display_name": "Python 3 (ipykernel)",
   "language": "python",
   "name": "python3"
  },
  "language_info": {
   "codemirror_mode": {
    "name": "ipython",
    "version": 3
   },
   "file_extension": ".py",
   "mimetype": "text/x-python",
   "name": "python",
   "nbconvert_exporter": "python",
   "pygments_lexer": "ipython3",
   "version": "3.12.2"
  }
 },
 "nbformat": 4,
 "nbformat_minor": 5
}
